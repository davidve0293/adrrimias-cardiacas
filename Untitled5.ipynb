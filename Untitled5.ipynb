{
 "cells": [
  {
   "cell_type": "code",
   "execution_count": 91,
   "metadata": {},
   "outputs": [],
   "source": [
    "import numpy as np\n",
    "import pandas as pd\n",
    "import matplotlib.pyplot as plt\n",
    "import seaborn as sns\n",
    "%matplotlib inline"
   ]
  },
  {
   "cell_type": "code",
   "execution_count": 92,
   "metadata": {},
   "outputs": [],
   "source": [
    "import warnings\n",
    "warnings.filterwarnings('ignore')"
   ]
  },
  {
   "cell_type": "code",
   "execution_count": 93,
   "metadata": {},
   "outputs": [],
   "source": [
    "cardiac = pd.read_csv('cardiac_arrhythmia.csv', header=None)"
   ]
  },
  {
   "cell_type": "code",
   "execution_count": 94,
   "metadata": {},
   "outputs": [
    {
     "data": {
      "text/html": [
       "<div>\n",
       "<style scoped>\n",
       "    .dataframe tbody tr th:only-of-type {\n",
       "        vertical-align: middle;\n",
       "    }\n",
       "\n",
       "    .dataframe tbody tr th {\n",
       "        vertical-align: top;\n",
       "    }\n",
       "\n",
       "    .dataframe thead th {\n",
       "        text-align: right;\n",
       "    }\n",
       "</style>\n",
       "<table border=\"1\" class=\"dataframe\">\n",
       "  <thead>\n",
       "    <tr style=\"text-align: right;\">\n",
       "      <th></th>\n",
       "      <th>0</th>\n",
       "      <th>1</th>\n",
       "      <th>2</th>\n",
       "      <th>3</th>\n",
       "      <th>4</th>\n",
       "      <th>5</th>\n",
       "      <th>6</th>\n",
       "      <th>7</th>\n",
       "      <th>8</th>\n",
       "      <th>9</th>\n",
       "      <th>...</th>\n",
       "      <th>270</th>\n",
       "      <th>271</th>\n",
       "      <th>272</th>\n",
       "      <th>273</th>\n",
       "      <th>274</th>\n",
       "      <th>275</th>\n",
       "      <th>276</th>\n",
       "      <th>277</th>\n",
       "      <th>278</th>\n",
       "      <th>279</th>\n",
       "    </tr>\n",
       "  </thead>\n",
       "  <tbody>\n",
       "    <tr>\n",
       "      <th>0</th>\n",
       "      <td>75</td>\n",
       "      <td>0</td>\n",
       "      <td>190</td>\n",
       "      <td>80</td>\n",
       "      <td>91</td>\n",
       "      <td>193</td>\n",
       "      <td>371</td>\n",
       "      <td>174</td>\n",
       "      <td>121</td>\n",
       "      <td>-16</td>\n",
       "      <td>...</td>\n",
       "      <td>0.0</td>\n",
       "      <td>9.0</td>\n",
       "      <td>-0.9</td>\n",
       "      <td>0.0</td>\n",
       "      <td>0</td>\n",
       "      <td>0.9</td>\n",
       "      <td>2.9</td>\n",
       "      <td>23.3</td>\n",
       "      <td>49.4</td>\n",
       "      <td>8</td>\n",
       "    </tr>\n",
       "    <tr>\n",
       "      <th>1</th>\n",
       "      <td>56</td>\n",
       "      <td>1</td>\n",
       "      <td>165</td>\n",
       "      <td>64</td>\n",
       "      <td>81</td>\n",
       "      <td>174</td>\n",
       "      <td>401</td>\n",
       "      <td>149</td>\n",
       "      <td>39</td>\n",
       "      <td>25</td>\n",
       "      <td>...</td>\n",
       "      <td>0.0</td>\n",
       "      <td>8.5</td>\n",
       "      <td>0.0</td>\n",
       "      <td>0.0</td>\n",
       "      <td>0</td>\n",
       "      <td>0.2</td>\n",
       "      <td>2.1</td>\n",
       "      <td>20.4</td>\n",
       "      <td>38.8</td>\n",
       "      <td>6</td>\n",
       "    </tr>\n",
       "    <tr>\n",
       "      <th>2</th>\n",
       "      <td>54</td>\n",
       "      <td>0</td>\n",
       "      <td>172</td>\n",
       "      <td>95</td>\n",
       "      <td>138</td>\n",
       "      <td>163</td>\n",
       "      <td>386</td>\n",
       "      <td>185</td>\n",
       "      <td>102</td>\n",
       "      <td>96</td>\n",
       "      <td>...</td>\n",
       "      <td>0.0</td>\n",
       "      <td>9.5</td>\n",
       "      <td>-2.4</td>\n",
       "      <td>0.0</td>\n",
       "      <td>0</td>\n",
       "      <td>0.3</td>\n",
       "      <td>3.4</td>\n",
       "      <td>12.3</td>\n",
       "      <td>49.0</td>\n",
       "      <td>10</td>\n",
       "    </tr>\n",
       "    <tr>\n",
       "      <th>3</th>\n",
       "      <td>55</td>\n",
       "      <td>0</td>\n",
       "      <td>175</td>\n",
       "      <td>94</td>\n",
       "      <td>100</td>\n",
       "      <td>202</td>\n",
       "      <td>380</td>\n",
       "      <td>179</td>\n",
       "      <td>143</td>\n",
       "      <td>28</td>\n",
       "      <td>...</td>\n",
       "      <td>0.0</td>\n",
       "      <td>12.2</td>\n",
       "      <td>-2.2</td>\n",
       "      <td>0.0</td>\n",
       "      <td>0</td>\n",
       "      <td>0.4</td>\n",
       "      <td>2.6</td>\n",
       "      <td>34.6</td>\n",
       "      <td>61.6</td>\n",
       "      <td>1</td>\n",
       "    </tr>\n",
       "    <tr>\n",
       "      <th>4</th>\n",
       "      <td>75</td>\n",
       "      <td>0</td>\n",
       "      <td>190</td>\n",
       "      <td>80</td>\n",
       "      <td>88</td>\n",
       "      <td>181</td>\n",
       "      <td>360</td>\n",
       "      <td>177</td>\n",
       "      <td>103</td>\n",
       "      <td>-16</td>\n",
       "      <td>...</td>\n",
       "      <td>0.0</td>\n",
       "      <td>13.1</td>\n",
       "      <td>-3.6</td>\n",
       "      <td>0.0</td>\n",
       "      <td>0</td>\n",
       "      <td>-0.1</td>\n",
       "      <td>3.9</td>\n",
       "      <td>25.4</td>\n",
       "      <td>62.8</td>\n",
       "      <td>7</td>\n",
       "    </tr>\n",
       "  </tbody>\n",
       "</table>\n",
       "<p>5 rows × 280 columns</p>\n",
       "</div>"
      ],
      "text/plain": [
       "   0    1    2    3    4    5    6    7    8    9   ...   270   271  272  273  \\\n",
       "0   75    0  190   80   91  193  371  174  121  -16 ...   0.0   9.0 -0.9  0.0   \n",
       "1   56    1  165   64   81  174  401  149   39   25 ...   0.0   8.5  0.0  0.0   \n",
       "2   54    0  172   95  138  163  386  185  102   96 ...   0.0   9.5 -2.4  0.0   \n",
       "3   55    0  175   94  100  202  380  179  143   28 ...   0.0  12.2 -2.2  0.0   \n",
       "4   75    0  190   80   88  181  360  177  103  -16 ...   0.0  13.1 -3.6  0.0   \n",
       "\n",
       "  274  275  276   277   278  279  \n",
       "0   0  0.9  2.9  23.3  49.4    8  \n",
       "1   0  0.2  2.1  20.4  38.8    6  \n",
       "2   0  0.3  3.4  12.3  49.0   10  \n",
       "3   0  0.4  2.6  34.6  61.6    1  \n",
       "4   0 -0.1  3.9  25.4  62.8    7  \n",
       "\n",
       "[5 rows x 280 columns]"
      ]
     },
     "execution_count": 94,
     "metadata": {},
     "output_type": "execute_result"
    }
   ],
   "source": [
    "cardiac.head()"
   ]
  },
  {
   "cell_type": "code",
   "execution_count": 95,
   "metadata": {},
   "outputs": [
    {
     "name": "stdout",
     "output_type": "stream",
     "text": [
      "Rows and columns of the dataset: (452, 280)\n"
     ]
    }
   ],
   "source": [
    "print('Rows and columns of the dataset:', cardiac.shape)"
   ]
  },
  {
   "cell_type": "code",
   "execution_count": 96,
   "metadata": {},
   "outputs": [],
   "source": [
    "cardiac.replace('?', np.nan, inplace=True)"
   ]
  },
  {
   "cell_type": "code",
   "execution_count": 97,
   "metadata": {},
   "outputs": [
    {
     "data": {
      "text/html": [
       "<div>\n",
       "<style scoped>\n",
       "    .dataframe tbody tr th:only-of-type {\n",
       "        vertical-align: middle;\n",
       "    }\n",
       "\n",
       "    .dataframe tbody tr th {\n",
       "        vertical-align: top;\n",
       "    }\n",
       "\n",
       "    .dataframe thead th {\n",
       "        text-align: right;\n",
       "    }\n",
       "</style>\n",
       "<table border=\"1\" class=\"dataframe\">\n",
       "  <thead>\n",
       "    <tr style=\"text-align: right;\">\n",
       "      <th></th>\n",
       "      <th>Column</th>\n",
       "      <th>Number of Nulls</th>\n",
       "    </tr>\n",
       "  </thead>\n",
       "  <tbody>\n",
       "    <tr>\n",
       "      <th>10</th>\n",
       "      <td>10</td>\n",
       "      <td>8</td>\n",
       "    </tr>\n",
       "    <tr>\n",
       "      <th>11</th>\n",
       "      <td>11</td>\n",
       "      <td>22</td>\n",
       "    </tr>\n",
       "    <tr>\n",
       "      <th>12</th>\n",
       "      <td>12</td>\n",
       "      <td>1</td>\n",
       "    </tr>\n",
       "    <tr>\n",
       "      <th>13</th>\n",
       "      <td>13</td>\n",
       "      <td>376</td>\n",
       "    </tr>\n",
       "    <tr>\n",
       "      <th>14</th>\n",
       "      <td>14</td>\n",
       "      <td>1</td>\n",
       "    </tr>\n",
       "  </tbody>\n",
       "</table>\n",
       "</div>"
      ],
      "text/plain": [
       "    Column  Number of Nulls\n",
       "10      10                8\n",
       "11      11               22\n",
       "12      12                1\n",
       "13      13              376\n",
       "14      14                1"
      ]
     },
     "execution_count": 97,
     "metadata": {},
     "output_type": "execute_result"
    }
   ],
   "source": [
    "nulls = cardiac.isnull().sum().reset_index()\n",
    "nulls.columns = ['Column', 'Number of Nulls']\n",
    "nulls = nulls.loc[nulls['Number of Nulls'] != 0]\n",
    "nulls"
   ]
  },
  {
   "cell_type": "code",
   "execution_count": 98,
   "metadata": {},
   "outputs": [],
   "source": [
    "cardiac.drop(columns=13, inplace=True)"
   ]
  },
  {
   "cell_type": "code",
   "execution_count": 99,
   "metadata": {},
   "outputs": [],
   "source": [
    "for i in [10,11,12,14]:\n",
    "    cardiac[i].fillna(cardiac[i].astype(float).mean(),inplace=True)"
   ]
  },
  {
   "cell_type": "code",
   "execution_count": 100,
   "metadata": {},
   "outputs": [
    {
     "data": {
      "text/plain": [
       "162   -0.197555\n",
       "242   -0.189458\n",
       "1     -0.178080\n",
       "168   -0.171763\n",
       "270   -0.164321\n",
       "260   -0.162153\n",
       "247   -0.159612\n",
       "172   -0.158536\n",
       "252   -0.150610\n",
       "202   -0.142731\n",
       "161   -0.135180\n",
       "208   -0.134657\n",
       "8     -0.122003\n",
       "89    -0.118168\n",
       "237   -0.108902\n",
       "165   -0.105922\n",
       "167   -0.102059\n",
       "5     -0.099954\n",
       "212   -0.099329\n",
       "238   -0.094543\n",
       "234   -0.093912\n",
       "214   -0.093510\n",
       "230   -0.092791\n",
       "0     -0.092381\n",
       "3     -0.090151\n",
       "255   -0.086873\n",
       "275   -0.086427\n",
       "206   -0.084941\n",
       "48    -0.084021\n",
       "257   -0.083396\n",
       "         ...   \n",
       "229    0.119809\n",
       "88     0.120726\n",
       "107    0.121711\n",
       "193    0.122928\n",
       "249    0.124823\n",
       "198    0.125873\n",
       "65     0.127210\n",
       "228    0.128490\n",
       "149    0.130056\n",
       "181    0.130360\n",
       "119    0.132195\n",
       "113    0.140502\n",
       "56     0.141103\n",
       "221    0.141274\n",
       "152    0.141506\n",
       "77     0.143284\n",
       "239    0.151782\n",
       "68     0.152534\n",
       "191    0.165693\n",
       "125    0.170670\n",
       "52     0.173243\n",
       "94     0.174346\n",
       "29     0.183083\n",
       "17     0.195198\n",
       "233    0.218811\n",
       "223    0.235488\n",
       "102    0.282523\n",
       "92     0.313982\n",
       "4      0.323879\n",
       "90     0.368876\n",
       "Name: 279, Length: 257, dtype: float64"
      ]
     },
     "execution_count": 100,
     "metadata": {},
     "output_type": "execute_result"
    }
   ],
   "source": [
    "cardiac.corr()[cardiac.shape[1]].sort_values().head(257)"
   ]
  },
  {
   "cell_type": "code",
   "execution_count": 101,
   "metadata": {},
   "outputs": [
    {
     "data": {
      "text/plain": [
       "Text(0.5, 0, 'Arrhythmia')"
      ]
     },
     "execution_count": 101,
     "metadata": {},
     "output_type": "execute_result"
    },
    {
     "data": {
      "image/png": "[encoded data removed]",
      "text/plain": [
       "<Figure size 864x432 with 1 Axes>"
      ]
     },
     "metadata": {
      "needs_background": "light"
     },
     "output_type": "display_data"
    }
   ],
   "source": [
    "plt.figure(figsize=(12,6))\n",
    "sns.countplot(x=279, data = cardiac)\n",
    "plt.xlabel('Arrhythmia')"
   ]
  },
  {
   "cell_type": "code",
   "execution_count": 102,
   "metadata": {},
   "outputs": [],
   "source": [
    "X = cardiac.iloc[:, 0:278]\n",
    "y = cardiac.iloc[:, 278]"
   ]
  },
  {
   "cell_type": "code",
   "execution_count": 103,
   "metadata": {},
   "outputs": [],
   "source": [
    "from sklearn.model_selection import train_test_split\n",
    "X_train, X_test, y_train, y_test = train_test_split(X, y, test_size=0.3, random_state=42)"
   ]
  },
  {
   "cell_type": "code",
   "execution_count": 104,
   "metadata": {},
   "outputs": [],
   "source": [
    "from sklearn.preprocessing import MinMaxScaler \n",
    "scaler = MinMaxScaler()\n",
    "X_train = scaler.fit_transform(X_train)\n",
    "X_test = scaler.transform(X_test)"
   ]
  },
  {
   "cell_type": "code",
   "execution_count": 105,
   "metadata": {},
   "outputs": [
    {
     "data": {
      "text/plain": [
       "GridSearchCV(cv=StratifiedKFold(n_splits=8, random_state=None, shuffle=False),\n",
       "       error_score='raise-deprecating',\n",
       "       estimator=KNeighborsClassifier(algorithm='auto', leaf_size=30, metric='minkowski',\n",
       "           metric_params=None, n_jobs=-1, n_neighbors=5, p=2,\n",
       "           weights='uniform'),\n",
       "       fit_params=None, iid='warn', n_jobs=-1,\n",
       "       param_grid={'n_neighbors': [1, 2, 3, 4, 5, 6, 7, 8, 9, 10]},\n",
       "       pre_dispatch='2*n_jobs', refit=True, return_train_score='warn',\n",
       "       scoring=None, verbose=0)"
      ]
     },
     "execution_count": 105,
     "metadata": {},
     "output_type": "execute_result"
    }
   ],
   "source": [
    "from sklearn.neighbors import KNeighborsClassifier\n",
    "from sklearn.model_selection import GridSearchCV, StratifiedKFold\n",
    "\n",
    "kFold = StratifiedKFold(n_splits=8)\n",
    "\n",
    "knn = KNeighborsClassifier(n_jobs=-1)\n",
    "params = {'n_neighbors': [1,2,3,4,5,6,7,8,9,10]}\n",
    "\n",
    "knn_grid = GridSearchCV(estimator=knn, param_grid=params, n_jobs=-1, cv=kFold)\n",
    "knn_grid.fit(X_train,y_train)"
   ]
  },
  {
   "cell_type": "code",
   "execution_count": 106,
   "metadata": {},
   "outputs": [
    {
     "data": {
      "text/html": [
       "<div>\n",
       "<style scoped>\n",
       "    .dataframe tbody tr th:only-of-type {\n",
       "        vertical-align: middle;\n",
       "    }\n",
       "\n",
       "    .dataframe tbody tr th {\n",
       "        vertical-align: top;\n",
       "    }\n",
       "\n",
       "    .dataframe thead th {\n",
       "        text-align: right;\n",
       "    }\n",
       "</style>\n",
       "<table border=\"1\" class=\"dataframe\">\n",
       "  <thead>\n",
       "    <tr style=\"text-align: right;\">\n",
       "      <th></th>\n",
       "      <th>mean_fit_time</th>\n",
       "      <th>std_fit_time</th>\n",
       "      <th>mean_score_time</th>\n",
       "      <th>std_score_time</th>\n",
       "      <th>param_n_neighbors</th>\n",
       "      <th>params</th>\n",
       "      <th>split0_test_score</th>\n",
       "      <th>split1_test_score</th>\n",
       "      <th>split2_test_score</th>\n",
       "      <th>split3_test_score</th>\n",
       "      <th>...</th>\n",
       "      <th>split0_train_score</th>\n",
       "      <th>split1_train_score</th>\n",
       "      <th>split2_train_score</th>\n",
       "      <th>split3_train_score</th>\n",
       "      <th>split4_train_score</th>\n",
       "      <th>split5_train_score</th>\n",
       "      <th>split6_train_score</th>\n",
       "      <th>split7_train_score</th>\n",
       "      <th>mean_train_score</th>\n",
       "      <th>std_train_score</th>\n",
       "    </tr>\n",
       "  </thead>\n",
       "  <tbody>\n",
       "    <tr>\n",
       "      <th>4</th>\n",
       "      <td>0.000255</td>\n",
       "      <td>0.000674</td>\n",
       "      <td>0.111849</td>\n",
       "      <td>0.005544</td>\n",
       "      <td>5</td>\n",
       "      <td>{'n_neighbors': 5}</td>\n",
       "      <td>0.533333</td>\n",
       "      <td>0.560976</td>\n",
       "      <td>0.560976</td>\n",
       "      <td>0.600</td>\n",
       "      <td>...</td>\n",
       "      <td>0.634686</td>\n",
       "      <td>0.625455</td>\n",
       "      <td>0.621818</td>\n",
       "      <td>0.615942</td>\n",
       "      <td>0.629496</td>\n",
       "      <td>0.622302</td>\n",
       "      <td>0.629496</td>\n",
       "      <td>0.622776</td>\n",
       "      <td>0.625246</td>\n",
       "      <td>0.005459</td>\n",
       "    </tr>\n",
       "    <tr>\n",
       "      <th>1</th>\n",
       "      <td>0.002500</td>\n",
       "      <td>0.004330</td>\n",
       "      <td>0.112403</td>\n",
       "      <td>0.002753</td>\n",
       "      <td>2</td>\n",
       "      <td>{'n_neighbors': 2}</td>\n",
       "      <td>0.511111</td>\n",
       "      <td>0.560976</td>\n",
       "      <td>0.536585</td>\n",
       "      <td>0.625</td>\n",
       "      <td>...</td>\n",
       "      <td>0.682657</td>\n",
       "      <td>0.701818</td>\n",
       "      <td>0.694545</td>\n",
       "      <td>0.688406</td>\n",
       "      <td>0.694245</td>\n",
       "      <td>0.712230</td>\n",
       "      <td>0.694245</td>\n",
       "      <td>0.669039</td>\n",
       "      <td>0.692148</td>\n",
       "      <td>0.011987</td>\n",
       "    </tr>\n",
       "    <tr>\n",
       "      <th>3</th>\n",
       "      <td>0.000000</td>\n",
       "      <td>0.000000</td>\n",
       "      <td>0.111255</td>\n",
       "      <td>0.003424</td>\n",
       "      <td>4</td>\n",
       "      <td>{'n_neighbors': 4}</td>\n",
       "      <td>0.533333</td>\n",
       "      <td>0.512195</td>\n",
       "      <td>0.560976</td>\n",
       "      <td>0.625</td>\n",
       "      <td>...</td>\n",
       "      <td>0.649446</td>\n",
       "      <td>0.632727</td>\n",
       "      <td>0.636364</td>\n",
       "      <td>0.641304</td>\n",
       "      <td>0.651079</td>\n",
       "      <td>0.633094</td>\n",
       "      <td>0.643885</td>\n",
       "      <td>0.629893</td>\n",
       "      <td>0.639724</td>\n",
       "      <td>0.007451</td>\n",
       "    </tr>\n",
       "    <tr>\n",
       "      <th>5</th>\n",
       "      <td>0.000000</td>\n",
       "      <td>0.000000</td>\n",
       "      <td>0.110193</td>\n",
       "      <td>0.001257</td>\n",
       "      <td>6</td>\n",
       "      <td>{'n_neighbors': 6}</td>\n",
       "      <td>0.533333</td>\n",
       "      <td>0.512195</td>\n",
       "      <td>0.560976</td>\n",
       "      <td>0.600</td>\n",
       "      <td>...</td>\n",
       "      <td>0.608856</td>\n",
       "      <td>0.600000</td>\n",
       "      <td>0.600000</td>\n",
       "      <td>0.601449</td>\n",
       "      <td>0.607914</td>\n",
       "      <td>0.607914</td>\n",
       "      <td>0.600719</td>\n",
       "      <td>0.601423</td>\n",
       "      <td>0.603534</td>\n",
       "      <td>0.003681</td>\n",
       "    </tr>\n",
       "    <tr>\n",
       "      <th>6</th>\n",
       "      <td>0.000000</td>\n",
       "      <td>0.000000</td>\n",
       "      <td>0.111359</td>\n",
       "      <td>0.001756</td>\n",
       "      <td>7</td>\n",
       "      <td>{'n_neighbors': 7}</td>\n",
       "      <td>0.511111</td>\n",
       "      <td>0.536585</td>\n",
       "      <td>0.560976</td>\n",
       "      <td>0.575</td>\n",
       "      <td>...</td>\n",
       "      <td>0.605166</td>\n",
       "      <td>0.607273</td>\n",
       "      <td>0.596364</td>\n",
       "      <td>0.608696</td>\n",
       "      <td>0.597122</td>\n",
       "      <td>0.589928</td>\n",
       "      <td>0.593525</td>\n",
       "      <td>0.601423</td>\n",
       "      <td>0.599937</td>\n",
       "      <td>0.006345</td>\n",
       "    </tr>\n",
       "  </tbody>\n",
       "</table>\n",
       "<p>5 rows × 27 columns</p>\n",
       "</div>"
      ],
      "text/plain": [
       "   mean_fit_time  std_fit_time  mean_score_time  std_score_time  \\\n",
       "4       0.000255      0.000674         0.111849        0.005544   \n",
       "1       0.002500      0.004330         0.112403        0.002753   \n",
       "3       0.000000      0.000000         0.111255        0.003424   \n",
       "5       0.000000      0.000000         0.110193        0.001257   \n",
       "6       0.000000      0.000000         0.111359        0.001756   \n",
       "\n",
       "  param_n_neighbors              params  split0_test_score  split1_test_score  \\\n",
       "4                 5  {'n_neighbors': 5}           0.533333           0.560976   \n",
       "1                 2  {'n_neighbors': 2}           0.511111           0.560976   \n",
       "3                 4  {'n_neighbors': 4}           0.533333           0.512195   \n",
       "5                 6  {'n_neighbors': 6}           0.533333           0.512195   \n",
       "6                 7  {'n_neighbors': 7}           0.511111           0.536585   \n",
       "\n",
       "   split2_test_score  split3_test_score       ...         split0_train_score  \\\n",
       "4           0.560976              0.600       ...                   0.634686   \n",
       "1           0.536585              0.625       ...                   0.682657   \n",
       "3           0.560976              0.625       ...                   0.649446   \n",
       "5           0.560976              0.600       ...                   0.608856   \n",
       "6           0.560976              0.575       ...                   0.605166   \n",
       "\n",
       "   split1_train_score  split2_train_score  split3_train_score  \\\n",
       "4            0.625455            0.621818            0.615942   \n",
       "1            0.701818            0.694545            0.688406   \n",
       "3            0.632727            0.636364            0.641304   \n",
       "5            0.600000            0.600000            0.601449   \n",
       "6            0.607273            0.596364            0.608696   \n",
       "\n",
       "   split4_train_score  split5_train_score  split6_train_score  \\\n",
       "4            0.629496            0.622302            0.629496   \n",
       "1            0.694245            0.712230            0.694245   \n",
       "3            0.651079            0.633094            0.643885   \n",
       "5            0.607914            0.607914            0.600719   \n",
       "6            0.597122            0.589928            0.593525   \n",
       "\n",
       "   split7_train_score  mean_train_score  std_train_score  \n",
       "4            0.622776          0.625246         0.005459  \n",
       "1            0.669039          0.692148         0.011987  \n",
       "3            0.629893          0.639724         0.007451  \n",
       "5            0.601423          0.603534         0.003681  \n",
       "6            0.601423          0.599937         0.006345  \n",
       "\n",
       "[5 rows x 27 columns]"
      ]
     },
     "execution_count": 106,
     "metadata": {},
     "output_type": "execute_result"
    }
   ],
   "source": [
    "knn_grid_results = pd.DataFrame(knn_grid.cv_results_).sort_values('rank_test_score')\n",
    "knn_grid_results.head()"
   ]
  },
  {
   "cell_type": "code",
   "execution_count": 107,
   "metadata": {},
   "outputs": [
    {
     "data": {
      "text/plain": [
       "Text(0, 0.5, 'Error Rate')"
      ]
     },
     "execution_count": 107,
     "metadata": {},
     "output_type": "execute_result"
    },
    {
     "data": {
      "image/png": "[encoded data removed]",
      "text/plain": [
       "<Figure size 720x432 with 1 Axes>"
      ]
     },
     "metadata": {
      "needs_background": "light"
     },
     "output_type": "display_data"
    }
   ],
   "source": [
    "error_rate = []\n",
    "\n",
    "for i in range(1,10):\n",
    "    \n",
    "    knn2 = KNeighborsClassifier(n_neighbors=i)\n",
    "    knn2.fit(X_train,y_train)\n",
    "    pred_i = knn2.predict(X_test)\n",
    "    error_rate.append(np.mean(pred_i != y_test))\n",
    "    \n",
    "plt.figure(figsize=(10,6))\n",
    "plt.plot(range(1,10),error_rate,color='blue', linestyle='dashed', marker='o',\n",
    "         markerfacecolor='red', markersize=10)\n",
    "plt.title('Error Rate vs. K Value')\n",
    "plt.xlabel('K')\n",
    "plt.ylabel('Error Rate')"
   ]
  },
  {
   "cell_type": "code",
   "execution_count": 108,
   "metadata": {},
   "outputs": [],
   "source": [
    "from sklearn.preprocessing import MinMaxScaler\n",
    "\n",
    "scaleX = MinMaxScaler()\n",
    "\n",
    "X_scaled = scaleX.fit_transform(X)"
   ]
  },
  {
   "cell_type": "code",
   "execution_count": 109,
   "metadata": {},
   "outputs": [],
   "source": [
    "from sklearn.model_selection import train_test_split\n",
    "from sklearn.preprocessing import MinMaxScaler\n",
    "\n",
    "X_train, X_test, y_train, y_test = train_test_split(X, y, test_size=0.3, random_state=42)\n",
    "\n",
    "scaler = MinMaxScaler()\n",
    "X_train = scaler.fit_transform(X_train)\n",
    "X_test = scaler.transform(X_test)"
   ]
  },
  {
   "cell_type": "code",
   "execution_count": 118,
   "metadata": {},
   "outputs": [],
   "source": [
    "pca = PCA(n_components=100, svd_solver='auto')\n",
    "X_train_pca = pca.fit_transform(X_train)\n",
    "X_test_pca = pca.transform(X_test)\n",
    "X_comb_pca = np.concatenate((X_train_pca, X_test_pca), axis=0)"
   ]
  },
  {
   "cell_type": "code",
   "execution_count": 123,
   "metadata": {},
   "outputs": [
    {
     "name": "stdout",
     "output_type": "stream",
     "text": [
      "Arbol de decicion Test Accuracy: 0.6764705882352942\n"
     ]
    }
   ],
   "source": [
    "LSVC_bag.fit(X_train, y_train)\n",
    "print('Arbol de decicion Test Accuracy:', LSVC_bag.score(X_test, y_test))"
   ]
  },
  {
   "cell_type": "code",
   "execution_count": 127,
   "metadata": {},
   "outputs": [
    {
     "name": "stdout",
     "output_type": "stream",
     "text": [
      "Clasificacion por arbol de deciciones:\n",
      "              precision    recall  f1-score   support\n",
      "\n",
      "           1       0.67      0.96      0.79        69\n",
      "           2       0.56      0.45      0.50        11\n",
      "           3       1.00      1.00      1.00         7\n",
      "           4       0.33      0.33      0.33         3\n",
      "           5       0.00      0.00      0.00         4\n",
      "           6       0.00      0.00      0.00        10\n",
      "           8       0.00      0.00      0.00         1\n",
      "           9       0.50      1.00      0.67         1\n",
      "          10       0.75      0.63      0.69        19\n",
      "          14       0.00      0.00      0.00         3\n",
      "          15       0.00      0.00      0.00         1\n",
      "          16       0.00      0.00      0.00         7\n",
      "\n",
      "   micro avg       0.68      0.68      0.68       136\n",
      "   macro avg       0.32      0.36      0.33       136\n",
      "weighted avg       0.55      0.68      0.60       136\n",
      "\n",
      "\n",
      "\n",
      "Matriz de Confucion Arbol de Decicion:\n",
      "[[66  1  0  1  0  0  0  0  1  0  0  0]\n",
      " [ 6  5  0  0  0  0  0  0  0  0  0  0]\n",
      " [ 0  0  7  0  0  0  0  0  0  0  0  0]\n",
      " [ 1  0  0  1  0  0  0  0  1  0  0  0]\n",
      " [ 3  0  0  0  0  0  0  0  1  0  0  0]\n",
      " [ 9  0  0  1  0  0  0  0  0  0  0  0]\n",
      " [ 1  0  0  0  0  0  0  0  0  0  0  0]\n",
      " [ 0  0  0  0  0  0  0  1  0  0  0  0]\n",
      " [ 6  1  0  0  0  0  0  0 12  0  0  0]\n",
      " [ 2  0  0  0  0  0  0  0  0  0  0  1]\n",
      " [ 0  1  0  0  0  0  0  0  0  0  0  0]\n",
      " [ 4  1  0  0  0  0  0  1  1  0  0  0]]\n"
     ]
    }
   ],
   "source": [
    "from sklearn.metrics import classification_report, confusion_matrix\n",
    "print('Clasificacion por arbol de deciciones:')\n",
    "print(classification_report(y_true = y_test, y_pred= LSVC_bag.predict(X_test)))\n",
    "print('\\n')\n",
    "print('Matriz de Confucion Arbol de Decicion:')\n",
    "print(confusion_matrix(y_true = y_test, y_pred= LSVC_bag.predict(X_test)))"
   ]
  },
  {
   "cell_type": "code",
   "execution_count": 125,
   "metadata": {},
   "outputs": [
    {
     "name": "stdout",
     "output_type": "stream",
     "text": [
      "Vecinos Cercanos Test Accuracy: 0.7205882352941176\n"
     ]
    }
   ],
   "source": [
    "GB_baseline2.fit(X_train, y_train)\n",
    "print('Vecinos Cercanos Test Accuracy:', GB_baseline2.score(X_test, y_test))"
   ]
  },
  {
   "cell_type": "code",
   "execution_count": 128,
   "metadata": {},
   "outputs": [
    {
     "name": "stdout",
     "output_type": "stream",
     "text": [
      "Clasificacion por Vecinos Cercanos:\n",
      "              precision    recall  f1-score   support\n",
      "\n",
      "           1       0.73      0.97      0.83        69\n",
      "           2       0.67      0.55      0.60        11\n",
      "           3       1.00      0.57      0.73         7\n",
      "           4       0.25      0.33      0.29         3\n",
      "           5       0.75      0.75      0.75         4\n",
      "           6       0.88      0.70      0.78        10\n",
      "           8       0.00      0.00      0.00         1\n",
      "           9       1.00      1.00      1.00         1\n",
      "          10       0.82      0.47      0.60        19\n",
      "          14       0.00      0.00      0.00         3\n",
      "          15       0.00      0.00      0.00         1\n",
      "          16       0.00      0.00      0.00         7\n",
      "\n",
      "   micro avg       0.72      0.72      0.72       136\n",
      "   macro avg       0.51      0.45      0.46       136\n",
      "weighted avg       0.69      0.72      0.68       136\n",
      "\n",
      "\n",
      "\n",
      "Matriz de Confucion Vecinos Cercanos:\n",
      "[[67  1  0  1  0  0  0  0  0  0  0  0]\n",
      " [ 4  6  0  0  0  1  0  0  0  0  0  0]\n",
      " [ 1  1  4  0  1  0  0  0  0  0  0  0]\n",
      " [ 1  0  0  1  0  0  0  0  1  0  0  0]\n",
      " [ 1  0  0  0  3  0  0  0  0  0  0  0]\n",
      " [ 2  0  0  1  0  7  0  0  0  0  0  0]\n",
      " [ 1  0  0  0  0  0  0  0  0  0  0  0]\n",
      " [ 0  0  0  0  0  0  0  1  0  0  0  0]\n",
      " [ 7  0  0  1  0  0  0  0  9  0  1  1]\n",
      " [ 2  0  0  0  0  0  0  0  0  0  0  1]\n",
      " [ 0  1  0  0  0  0  0  0  0  0  0  0]\n",
      " [ 6  0  0  0  0  0  0  0  1  0  0  0]]\n"
     ]
    }
   ],
   "source": [
    "from sklearn.metrics import classification_report, confusion_matrix\n",
    "print('Clasificacion por Vecinos Cercanos:')\n",
    "print(classification_report(y_true = y_test, y_pred= GB_baseline2.predict(X_test)))\n",
    "print('\\n')\n",
    "print('Matriz de Confucion Vecinos Cercanos:')\n",
    "print(confusion_matrix(y_true = y_test, y_pred= GB_baseline2.predict(X_test)))"
   ]
  },
  {
   "cell_type": "code",
   "execution_count": null,
   "metadata": {},
   "outputs": [],
   "source": []
  },
  {
   "cell_type": "code",
   "execution_count": null,
   "metadata": {},
   "outputs": [],
   "source": []
  }
 ],
 "metadata": {
  "kernelspec": {
   "display_name": "Python 3",
   "language": "python",
   "name": "python3"
  },
  "language_info": {
   "codemirror_mode": {
    "name": "ipython",
    "version": 3
   },
   "file_extension": ".py",
   "mimetype": "text/x-python",
   "name": "python",
   "nbconvert_exporter": "python",
   "pygments_lexer": "ipython3",
   "version": "3.7.1"
  }
 },
 "nbformat": 4,
 "nbformat_minor": 2
}
